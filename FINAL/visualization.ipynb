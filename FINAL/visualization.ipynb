{
 "cells": [
  {
   "cell_type": "code",
   "execution_count": 29,
   "metadata": {},
   "outputs": [],
   "source": [
    "import sqlite3\n",
    "import os\n",
    "import pandas as pd\n",
    "import matplotlib.pyplot as plt\n",
    "conn = sqlite3.connect(os.path.abspath('final.db'))\n",
    "cur = conn.cursor()"
   ]
  },
  {
   "cell_type": "code",
   "execution_count": 30,
   "metadata": {},
   "outputs": [],
   "source": [
    "weekly_prices_query = \"SELECT wp.*, we.index_value, s.ticker FROM WeeklyPrices wp JOIN WeeklyEconomicIndex we ON wp.date = we.date join Stocks s on wp.stock_id = s.id  \"\n",
    "sentiment_query = \"SELECT * FROM SentimentData\"\n",
    "weekly_economic_index = \"SELECT * FROM WeeklyEconomicIndex\"\n"
   ]
  },
  {
   "cell_type": "code",
   "execution_count": 31,
   "metadata": {},
   "outputs": [
    {
     "data": {
      "text/html": [
       "<div>\n",
       "<style scoped>\n",
       "    .dataframe tbody tr th:only-of-type {\n",
       "        vertical-align: middle;\n",
       "    }\n",
       "\n",
       "    .dataframe tbody tr th {\n",
       "        vertical-align: top;\n",
       "    }\n",
       "\n",
       "    .dataframe thead th {\n",
       "        text-align: right;\n",
       "    }\n",
       "</style>\n",
       "<table border=\"1\" class=\"dataframe\">\n",
       "  <thead>\n",
       "    <tr style=\"text-align: right;\">\n",
       "      <th></th>\n",
       "      <th>stock_id</th>\n",
       "      <th>date</th>\n",
       "      <th>open</th>\n",
       "      <th>high</th>\n",
       "      <th>low</th>\n",
       "      <th>close</th>\n",
       "      <th>volume</th>\n",
       "      <th>index_value</th>\n",
       "      <th>ticker</th>\n",
       "    </tr>\n",
       "  </thead>\n",
       "  <tbody>\n",
       "    <tr>\n",
       "      <th>0</th>\n",
       "      <td>1</td>\n",
       "      <td>2024-11-29</td>\n",
       "      <td>141.99</td>\n",
       "      <td>142.050</td>\n",
       "      <td>131.8000</td>\n",
       "      <td>138.25</td>\n",
       "      <td>903463597</td>\n",
       "      <td>1.79</td>\n",
       "      <td>NVDA</td>\n",
       "    </tr>\n",
       "    <tr>\n",
       "      <th>1</th>\n",
       "      <td>1</td>\n",
       "      <td>2024-11-22</td>\n",
       "      <td>139.50</td>\n",
       "      <td>152.890</td>\n",
       "      <td>137.1500</td>\n",
       "      <td>141.95</td>\n",
       "      <td>1396925283</td>\n",
       "      <td>3.21</td>\n",
       "      <td>NVDA</td>\n",
       "    </tr>\n",
       "    <tr>\n",
       "      <th>2</th>\n",
       "      <td>1</td>\n",
       "      <td>2024-11-15</td>\n",
       "      <td>148.68</td>\n",
       "      <td>149.650</td>\n",
       "      <td>140.0800</td>\n",
       "      <td>141.98</td>\n",
       "      <td>1017459795</td>\n",
       "      <td>1.87</td>\n",
       "      <td>NVDA</td>\n",
       "    </tr>\n",
       "    <tr>\n",
       "      <th>3</th>\n",
       "      <td>1</td>\n",
       "      <td>2024-11-08</td>\n",
       "      <td>137.21</td>\n",
       "      <td>149.770</td>\n",
       "      <td>135.5700</td>\n",
       "      <td>147.63</td>\n",
       "      <td>973098624</td>\n",
       "      <td>2.04</td>\n",
       "      <td>NVDA</td>\n",
       "    </tr>\n",
       "    <tr>\n",
       "      <th>4</th>\n",
       "      <td>1</td>\n",
       "      <td>2024-11-01</td>\n",
       "      <td>143.00</td>\n",
       "      <td>143.140</td>\n",
       "      <td>132.1106</td>\n",
       "      <td>135.40</td>\n",
       "      <td>987765940</td>\n",
       "      <td>1.65</td>\n",
       "      <td>NVDA</td>\n",
       "    </tr>\n",
       "    <tr>\n",
       "      <th>5</th>\n",
       "      <td>1</td>\n",
       "      <td>2024-10-25</td>\n",
       "      <td>138.13</td>\n",
       "      <td>144.420</td>\n",
       "      <td>137.4600</td>\n",
       "      <td>141.54</td>\n",
       "      <td>1154273138</td>\n",
       "      <td>2.11</td>\n",
       "      <td>NVDA</td>\n",
       "    </tr>\n",
       "    <tr>\n",
       "      <th>6</th>\n",
       "      <td>1</td>\n",
       "      <td>2024-10-18</td>\n",
       "      <td>136.47</td>\n",
       "      <td>140.890</td>\n",
       "      <td>128.7400</td>\n",
       "      <td>138.00</td>\n",
       "      <td>1357584514</td>\n",
       "      <td>1.71</td>\n",
       "      <td>NVDA</td>\n",
       "    </tr>\n",
       "    <tr>\n",
       "      <th>7</th>\n",
       "      <td>1</td>\n",
       "      <td>2024-10-11</td>\n",
       "      <td>124.99</td>\n",
       "      <td>135.780</td>\n",
       "      <td>124.9500</td>\n",
       "      <td>134.80</td>\n",
       "      <td>1290685141</td>\n",
       "      <td>1.94</td>\n",
       "      <td>NVDA</td>\n",
       "    </tr>\n",
       "    <tr>\n",
       "      <th>8</th>\n",
       "      <td>1</td>\n",
       "      <td>2024-10-04</td>\n",
       "      <td>118.31</td>\n",
       "      <td>125.040</td>\n",
       "      <td>115.1400</td>\n",
       "      <td>124.92</td>\n",
       "      <td>1272577548</td>\n",
       "      <td>2.22</td>\n",
       "      <td>NVDA</td>\n",
       "    </tr>\n",
       "    <tr>\n",
       "      <th>9</th>\n",
       "      <td>1</td>\n",
       "      <td>2024-09-27</td>\n",
       "      <td>116.55</td>\n",
       "      <td>127.665</td>\n",
       "      <td>114.8600</td>\n",
       "      <td>121.40</td>\n",
       "      <td>1419480253</td>\n",
       "      <td>2.07</td>\n",
       "      <td>NVDA</td>\n",
       "    </tr>\n",
       "  </tbody>\n",
       "</table>\n",
       "</div>"
      ],
      "text/plain": [
       "   stock_id        date    open     high       low   close      volume  \\\n",
       "0         1  2024-11-29  141.99  142.050  131.8000  138.25   903463597   \n",
       "1         1  2024-11-22  139.50  152.890  137.1500  141.95  1396925283   \n",
       "2         1  2024-11-15  148.68  149.650  140.0800  141.98  1017459795   \n",
       "3         1  2024-11-08  137.21  149.770  135.5700  147.63   973098624   \n",
       "4         1  2024-11-01  143.00  143.140  132.1106  135.40   987765940   \n",
       "5         1  2024-10-25  138.13  144.420  137.4600  141.54  1154273138   \n",
       "6         1  2024-10-18  136.47  140.890  128.7400  138.00  1357584514   \n",
       "7         1  2024-10-11  124.99  135.780  124.9500  134.80  1290685141   \n",
       "8         1  2024-10-04  118.31  125.040  115.1400  124.92  1272577548   \n",
       "9         1  2024-09-27  116.55  127.665  114.8600  121.40  1419480253   \n",
       "\n",
       "   index_value ticker  \n",
       "0         1.79   NVDA  \n",
       "1         3.21   NVDA  \n",
       "2         1.87   NVDA  \n",
       "3         2.04   NVDA  \n",
       "4         1.65   NVDA  \n",
       "5         2.11   NVDA  \n",
       "6         1.71   NVDA  \n",
       "7         1.94   NVDA  \n",
       "8         2.22   NVDA  \n",
       "9         2.07   NVDA  "
      ]
     },
     "execution_count": 31,
     "metadata": {},
     "output_type": "execute_result"
    }
   ],
   "source": [
    "weekly_prices_df = pd.read_sql(weekly_prices_query, conn)\n",
    "sentiment_df = pd.read_sql(sentiment_query, conn)\n",
    "weekly_prices_df.head(10)\n",
    "\n"
   ]
  },
  {
   "cell_type": "code",
   "execution_count": null,
   "metadata": {},
   "outputs": [],
   "source": [
    "# filter the time range"
   ]
  },
  {
   "cell_type": "code",
   "execution_count": 4,
   "metadata": {},
   "outputs": [],
   "source": [
    "# Visualization 1\n",
    "# date from WeeklyEconomicIndex\n",
    "cur.execute(\"SELECT date FROM WeeklyEconomicIndex\")\n",
    "date_data = cur.fetchall()\n",
    "\n",
    "import datetime\n",
    "date_ls = []\n",
    "for i in date_data:\n",
    "    date = i[0]\n",
    "    date_ls.append(datetime.datetime.strptime(date, \"%Y-%m-%d\"))"
   ]
  },
  {
   "cell_type": "code",
   "execution_count": 5,
   "metadata": {},
   "outputs": [],
   "source": [
    "# weekly economic index from WeeklyEconomicIndex\n",
    "cur.execute(\"SELECT index_value FROM WeeklyEconomicIndex\")\n",
    "ls = cur.fetchall()\n",
    "index_data_ls = []\n",
    "for i in ls:\n",
    "    index = i[0]\n",
    "    index_data_ls.append(index)"
   ]
  },
  {
   "cell_type": "code",
   "execution_count": 6,
   "metadata": {},
   "outputs": [
    {
     "data": {
      "text/plain": [
       "[<matplotlib.lines.Line2D at 0x10e5ee2d0>]"
      ]
     },
     "execution_count": 6,
     "metadata": {},
     "output_type": "execute_result"
    },
    {
     "data": {
      "image/png": "[encoded data removed]",
      "text/plain": [
       "<Figure size 640x480 with 1 Axes>"
      ]
     },
     "metadata": {},
     "output_type": "display_data"
    }
   ],
   "source": [
    "plt.plot(date_ls, index_data_ls)\n",
    "# COVID\n",
    "# percentage_growth = []\n",
    "# percentage_growth.append(0)\n",
    "# for i in range(1, len(index_data_ls)):\n",
    "#     if index_data_ls[i - 1] == 0:\n",
    "#         growth = None\n",
    "#     else:\n",
    "#         growth = ((index_data_ls[i] - index_data_ls[i - 1]) / index_data_ls[i - 1]) * 100\n",
    "#     percentage_growth.append(growth)\n",
    "# plt.plot(date_ls, percentage_growth)"
   ]
  },
  {
   "cell_type": "code",
   "execution_count": null,
   "metadata": {},
   "outputs": [],
   "source": []
  },
  {
   "cell_type": "code",
   "execution_count": 39,
   "metadata": {},
   "outputs": [],
   "source": [
    "# Visualization 2\n",
    "# date from WeeklyPrices\n",
    "cur.execute(\"SELECT date FROM WeeklyPrices\")\n",
    "date_data = cur.fetchall()\n",
    "\n",
    "import datetime\n",
    "date_ls = []\n",
    "for i in date_data:\n",
    "    date = i[0]\n",
    "    date_ls.append(datetime.datetime.strptime(date, \"%Y-%m-%d\"))"
   ]
  },
  {
   "cell_type": "code",
   "execution_count": null,
   "metadata": {},
   "outputs": [],
   "source": [
    "# weekly economic index from WeeklyPrices\n",
    "cur.execute(\"SELECT index_value FROM WeeklyPrices\")\n",
    "ls = cur.fetchall()\n",
    "index_data_ls = []\n",
    "for i in ls:\n",
    "    index = i[0]\n",
    "    index_data_ls.append(index)"
   ]
  },
  {
   "cell_type": "code",
   "execution_count": null,
   "metadata": {},
   "outputs": [],
   "source": [
    "# Visualization 3"
   ]
  }
 ],
 "metadata": {
  "kernelspec": {
   "display_name": "base",
   "language": "python",
   "name": "python3"
  },
  "language_info": {
   "codemirror_mode": {
    "name": "ipython",
    "version": 3
   },
   "file_extension": ".py",
   "mimetype": "text/x-python",
   "name": "python",
   "nbconvert_exporter": "python",
   "pygments_lexer": "ipython3",
   "version": "3.12.4"
  }
 },
 "nbformat": 4,
 "nbformat_minor": 2
}
